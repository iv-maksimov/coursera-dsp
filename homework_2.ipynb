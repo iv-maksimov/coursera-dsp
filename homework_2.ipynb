{
 "metadata": {
  "name": "",
  "signature": "sha256:fb5c09ff4a836e2156f4f71e99b8f0b43d081ce68df145f1889b20623c2b3651"
 },
 "nbformat": 3,
 "nbformat_minor": 0,
 "worksheets": [
  {
   "cells": [
    {
     "cell_type": "markdown",
     "metadata": {},
     "source": [
      "#Homework for Day 2 "
     ]
    },
    {
     "cell_type": "code",
     "collapsed": false,
     "input": [
      "import numpy as np\n",
      "from scipy.optimize import fsolve"
     ],
     "language": "python",
     "metadata": {},
     "outputs": [],
     "prompt_number": 6
    },
    {
     "cell_type": "markdown",
     "metadata": {},
     "source": [
      "##Question 1\n",
      "Given the vectors\n",
      "$\\mathbf{v}^{(0)}=\\begin{bmatrix}\\frac{1}{2}\\\\\\frac{1}{2}\\\\\\frac{1}{2}\\\\\\frac{1}{2} \\end{bmatrix}$ and  $\\mathbf{v}^{(1)}=\\begin{bmatrix}\\frac{1}{2}\\\\\\frac{1}{2}\\\\-\\frac{1}{2}\\\\-\\frac{1}{2} \\end{bmatrix}$ the inner product $\\langle \\mathbf{v}^{(0)}, \\mathbf{v}^{(1)}\\rangle$ is equal to \n",
      "###Answer:"
     ]
    },
    {
     "cell_type": "code",
     "collapsed": true,
     "input": [
      "v_0 = np.array([0.5, 0.5, 0.5, 0.5])\n",
      "v_1 = np.array([0.5, 0.5, -0.5, -0.5])\n",
      "ip_v = np.dot(v_0.T, v_1)\n",
      "print('The inner product is equal to {}'.format(ip_v))"
     ],
     "language": "python",
     "metadata": {},
     "outputs": [
      {
       "output_type": "stream",
       "stream": "stdout",
       "text": [
        "The inner product is equal to 0.0\n"
       ]
      }
     ],
     "prompt_number": 7
    },
    {
     "cell_type": "markdown",
     "metadata": {},
     "source": [
      "##Question 2\n",
      "In this question, we consider the Hilbert space of vectors in $\\mathbb R^4$ with one of its basis $\\{\\mathbf{v}_0,\\ \\mathbf{v}_1,\\ \\mathbf{v}_2,\\ \\mathbf{v}_3\\}$.\n",
      "iven the first three basis vectors \n",
      "\n",
      "$\\mathbf{v}^{(0)}=\\begin{bmatrix}\\frac{1}{2}\\\\\\frac{1}{2}\\\\\\frac{1}{2}\\\\\\frac{1}{2} \\end{bmatrix}$ ,  $\\mathbf{v}^{(1)}=\\begin{bmatrix}\\frac{1}{2}\\\\\\frac{1}{2}\\\\-\\frac{1}{2}\\\\-\\frac{1}{2} \\end{bmatrix}$ and $\\mathbf{v}^{(2)}=\\begin{bmatrix}\\frac{1}{2}\\\\-\\frac{1}{2}\\\\\\frac{1}{2}\\\\-\\frac{1}{2} \\end{bmatrix}$.\n",
      "\n",
      "How many possibilit(y/ies) are there for $\\mathbf{v}^{(3)}$, such that $\\{\\mathbf{v}^{(0)},\\ \\mathbf{v}^{(1)},\\ \\mathbf{v}^{(2)},\\ \\mathbf{v}^{(3)}\\}$ is an <u>orthogonal basis</u> of $\\mathbb R^4$?\n"
     ]
    },
    {
     "cell_type": "markdown",
     "metadata": {},
     "source": [
      "###Answer: 2\n",
      "$\\begin{bmatrix}\\frac{1}{2}\\\\-\\frac{1}{2}\\\\-\\frac{1}{2}\\\\\\frac{1}{2} \\end{bmatrix}$ and $\\begin{bmatrix}-\\frac{1}{2}\\\\\\frac{1}{2}\\\\\\frac{1}{2}\\\\-\\frac{1}{2} \\end{bmatrix}$"
     ]
    },
    {
     "cell_type": "markdown",
     "metadata": {},
     "source": [
      "##Question 3\n",
      "\n",
      "In the same setup as in <b>Question 2</b>,\n",
      "(if you found several possibilities for $\\mathbf{v}_3$ just choose one of them). \n",
      "Let $\\mathbf{y}=\\begin{bmatrix}0\\\\1\\\\-2\\\\-1\\\\\\end{bmatrix}$ ,\n",
      "what are the expansion coefficients of $\\mathbf{y}$ in the basis $\\{\\mathbf{v}_0, \\mathbf{v}_1, \\mathbf{v}_2, \\mathbf{v}_3\\}$ you found in the previous question?\n"
     ]
    },
    {
     "cell_type": "code",
     "collapsed": false,
     "input": [
      "v_2 = np.array([0.5, -0.5, 0.5, -0.5])\n",
      "v_3 = np.array([0.5, -0.5, -0.5, 0.5])\n",
      "V = np.array([v_0, v_1, v_2, v_3])\n",
      "y = np.array([0, 1, -2, -1])\n",
      "x = np.linalg.solve(V, y)\n",
      "print(x)"
     ],
     "language": "python",
     "metadata": {},
     "outputs": [
      {
       "output_type": "stream",
       "stream": "stdout",
       "text": [
        "[-1.  2. -1.  0.]\n"
       ]
      }
     ],
     "prompt_number": 10
    },
    {
     "cell_type": "markdown",
     "metadata": {},
     "source": [
      "##Question 4\n",
      "\n",
      "In the same setup as in <b>Question 2</b> and <b>Question 3</b>,\n",
      "Which of the following sets form a basis of $\\mathbb R^4$?(You may have to tick 0, 1 or many boxes)\n",
      "\n",
      "$$\\{\\mathbf{y},\\mathbf{v}_1+\\mathbf{v}_2,\\mathbf{v}_2,\\mathbf{v}_3\\}$$\n",
      "$$\\{\\mathbf{y},\\mathbf{v}_1,\\mathbf{v}_2,\\mathbf{v}_3\\}$$\n",
      "$$\\{\\mathbf{y},\\mathbf{v}_0,\\mathbf{v}_1,\\mathbf{v}_3\\}$$\n",
      "$$\\{\\mathbf{y},\\mathbf{v}_0,\\mathbf{v}_1,\\mathbf{v}_2\\}$$\n",
      "\n",
      "###Answer: none"
     ]
    },
    {
     "cell_type": "markdown",
     "metadata": {},
     "source": [
      "##Question 7\n",
      "\n",
      "The Gram-Schmidt process  takes a linearly independent set $\\mathbf{V}=\\{\\textbf{v}^{(1)},\\textbf{v}^{(2)},...\\textbf{v}^{(k)}\\}$ and produces an orthonormal set $\\mathbf{E}=\\{\\textbf{e}^{(1)},\\textbf{e}^{(2)},...\\textbf{e}^{(k)}\\}$, that spans the same subspace of $\\mathbb{R}^n$ as $\\mathbf{V}$.\n",
      "    Consider the three vectors<br>\n",
      "    $$ \\textbf{v}^{(1)}=\\begin{bmatrix} 0.8660 \\\\ 0.5000 \\\\ 0 \\end{bmatrix}$$<br> $$\n",
      "    \\textbf{v}^{(2)}=\\begin{bmatrix} 0 \\\\ 0.5000 \\\\ 0.8660 \\end{bmatrix}$$<br>\n",
      "    $$\\textbf{v}^{(3)}=\\begin{bmatrix} 1.7320 \\\\ 3.0000 \\\\ 3.4640 \\end{bmatrix}$$<br><br><br>\n",
      "    Does the output matrix  in this case, represent a set of orthonormal vectors?<br>"
     ]
    },
    {
     "cell_type": "code",
     "collapsed": false,
     "input": [
      "def gs_orthonormalization(V) :\n",
      "    \n",
      "    #V is a matrix where each column contains \n",
      "    #the vectors spanning the space of which we want to compute the orthonormal base\n",
      "    #Will return a matrix where each column contains an ortho-normal vector of the base of the space\n",
      "    \n",
      "    numberLines = V.shape[0]\n",
      "    numberColumns = V.shape[1]\n",
      "    \n",
      "    #U is a matrix containing the orthogonal vectors (non normalized)\n",
      "    from numpy.linalg import norm\n",
      "    U = np.zeros((numberLines,numberColumns))\n",
      "    R = np.zeros((numberLines,numberColumns))\n",
      "    \n",
      "    for indexColumn in range(0,numberColumns) :\n",
      "        U[:,indexColumn] = V[:,indexColumn]\n",
      "        \n",
      "        for index in range(0,indexColumn):\n",
      "            R[index,indexColumn] = np.dot(U[:,index],V[:,indexColumn])\n",
      "            U[:,indexColumn] = U[:,indexColumn] - R[index,indexColumn]*U[:,index]\n",
      "            \n",
      "        R[indexColumn,indexColumn] = norm(U[:,indexColumn])\n",
      "        U[:,indexColumn] = U[:,indexColumn] / float(R[indexColumn, indexColumn])\n",
      "    \n",
      "    return U"
     ],
     "language": "python",
     "metadata": {},
     "outputs": [],
     "prompt_number": 14
    },
    {
     "cell_type": "code",
     "collapsed": false,
     "input": [
      "v1 = np.array([[0.866, 0.5, 0.0]]).T\n",
      "v2 = np.array([[0.0, 0.5, 0.866]]).T\n",
      "v3 = np.array([[1.7320, 3.0, 3.4640]]).T\n",
      "V = np.concatenate((v1, v2, v3), axis=1)\n",
      "print ('matrix V')\n",
      "print (V, '\\n')\n",
      "\n",
      "E = gs_orthonormalization(V)\n",
      "\n",
      "print ('Orthonormalized basis:')\n",
      "print (E, '\\n')\n",
      "print ('Check the orthonormality:',(np.dot(E.T,E) - np.eye(3)).sum())"
     ],
     "language": "python",
     "metadata": {},
     "outputs": [
      {
       "output_type": "stream",
       "stream": "stdout",
       "text": [
        "matrix V\n",
        "[[ 0.866  0.     1.732]\n",
        " [ 0.5    0.5    3.   ]\n",
        " [ 0.     0.866  3.464]] \n",
        "\n",
        "Orthonormalized basis:\n",
        "[[ 0.86601905 -0.22361565 -0.57735027]\n",
        " [ 0.500011    0.38730231 -0.57735027]\n",
        " [ 0.          0.89442326 -0.57735027]] \n",
        "\n",
        "Check the orthonormality: -2.79915572421\n"
       ]
      }
     ],
     "prompt_number": 18
    },
    {
     "cell_type": "markdown",
     "metadata": {},
     "source": [
      "###Answer: \n",
      "It is not a set of orthonormal vectors, because $\\mathbf{E^TE} \\neq \\mathbf{I}$."
     ]
    },
    {
     "cell_type": "code",
     "collapsed": false,
     "input": [
      "print(np.dot(E.T, E))"
     ],
     "language": "python",
     "metadata": {},
     "outputs": [
      {
       "output_type": "stream",
       "stream": "stdout",
       "text": [
        "[[  1.00000000e+00  -3.93565389e-17  -7.88677819e-01]\n",
        " [ -3.93565389e-17   1.00000000e+00  -6.10900043e-01]\n",
        " [ -7.88677819e-01  -6.10900043e-01   1.00000000e+00]]\n"
       ]
      }
     ],
     "prompt_number": 22
    }
   ],
   "metadata": {}
  }
 ]
}