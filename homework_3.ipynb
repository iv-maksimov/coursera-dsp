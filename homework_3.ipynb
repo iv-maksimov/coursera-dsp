{
 "metadata": {
  "name": "",
  "signature": "sha256:488cef9f1a957afcb13a4ce61804dc2ff1ad73c7723f66bf93f6636257e96821"
 },
 "nbformat": 3,
 "nbformat_minor": 0,
 "worksheets": [
  {
   "cells": [
    {
     "cell_type": "heading",
     "level": 2,
     "metadata": {},
     "source": [
      "Question 1"
     ]
    },
    {
     "cell_type": "markdown",
     "metadata": {},
     "source": [
      "Consider two complex numbers $a_1=1-\\mathrm{j}$ and $a_2=-1-\\mathrm{j}$.\n",
      "What are the phase angles of these two complex numbers?"
     ]
    },
    {
     "cell_type": "code",
     "collapsed": false,
     "input": [
      "import cmath\n",
      "import math\n",
      "\n",
      "a_1 = 1 - 1j\n",
      "a_2 = -1 - 1j\n",
      "phi = cmath.phase(a_1) - cmath.phase(a_2)\n",
      "math.degrees(phi)"
     ],
     "language": "python",
     "metadata": {},
     "outputs": [
      {
       "metadata": {},
       "output_type": "pyout",
       "prompt_number": 1,
       "text": [
        "90.0"
       ]
      }
     ],
     "prompt_number": 1
    },
    {
     "cell_type": "heading",
     "level": 2,
     "metadata": {},
     "source": [
      "Question 3"
     ]
    },
    {
     "cell_type": "markdown",
     "metadata": {},
     "source": [
      "Let $W_N^k=e^{-\\mathrm{j}\\frac{2\\pi}{N}k}$ and $N>1$. Then $W^{N/2}_N$ is equal to..."
     ]
    },
    {
     "cell_type": "code",
     "collapsed": false,
     "input": [
      "cmath.exp(-cmath.pi*1j)"
     ],
     "language": "python",
     "metadata": {},
     "outputs": [
      {
       "metadata": {},
       "output_type": "pyout",
       "prompt_number": 4,
       "text": [
        "(-1-1.2246467991473532e-16j)"
       ]
      }
     ],
     "prompt_number": 4
    },
    {
     "cell_type": "code",
     "collapsed": false,
     "input": [],
     "language": "python",
     "metadata": {},
     "outputs": []
    }
   ],
   "metadata": {}
  }
 ]
}